{
 "cells": [
  {
   "cell_type": "markdown",
   "metadata": {},
   "source": [
    "# Generating and accessing DP Release of mean\n",
    "\n",
    "This notebook is a brief introduction to how a Release generates.\n",
    "A Release contains the output of all nodes of the executing graph. It could be a batch of statistics (Mean, Histogram, Covariance, etc).  It also includes literal passed in such as column names, bounds, and the n to resize a dataset."
   ]
  },
  {
   "cell_type": "markdown",
   "metadata": {},
   "source": [
    "### Step1- setting up required libraries"
   ]
  },
  {
   "cell_type": "code",
   "execution_count": 1,
   "metadata": {},
   "outputs": [],
   "source": [
    "# load libraries\n",
    "import os\n",
    "import sys\n",
    "import numpy as np\n",
    "import opendp.whitenoise_core as wn"
   ]
  },
  {
   "cell_type": "markdown",
   "metadata": {},
   "source": [
    "### Step2- establishing data information\n"
   ]
  },
  {
   "cell_type": "code",
   "execution_count": 6,
   "metadata": {},
   "outputs": [
    {
     "name": "stdout",
     "output_type": "stream",
     "text": [
      "/Users/saniyavahedian/Documents/GitHub/Odp/whitenoise-samples/analysis/data/PUMS_california_demographics_1000/data.csv\n"
     ]
    }
   ],
   "source": [
    "data_path = os.path.abspath('/Users/saniyavahedian/Documents/GitHub/Odp/whitenoise-samples/analysis/data/PUMS_california_demographics_1000/data.csv')\n",
    "print(os.path.abspath(data_path))\n",
    "var_names = [\"age\", \"sex\", \"educ\", \"race\", \"income\", \"married\", \"pid\"]"
   ]
  },
  {
   "cell_type": "markdown",
   "metadata": {},
   "source": [
    "### Step3- loading a dataset and computing differentially private mean of age\n",
    "\n",
    "After runtime in WhiteNoise package runs, there are 2 different ways to load the dataset from a path for computing differently private mean/statistics.\n",
    "\n",
    "#### First one:"
   ]
  },
  {
   "cell_type": "code",
   "execution_count": 7,
   "metadata": {},
   "outputs": [],
   "source": [
    "analysis = wn.Analysis()\n",
    "analysis.enter()\n",
    "\n",
    "\n",
    "\n",
    "# load data\n",
    "data = wn.Dataset(path = data_path, column_names = var_names)\n",
    "# get mean of age\n",
    "age_mean = wn.dp_mean(data = wn.cast(data['age'], type=\"FLOAT\"),\n",
    "                          privacy_usage = {'epsilon': .65},\n",
    "                          data_lower = 0.,\n",
    "                          data_upper = 100.,\n",
    "                          data_n = 1000\n",
    "                         )\n",
    "analysis.exit()"
   ]
  },
  {
   "cell_type": "markdown",
   "metadata": {},
   "source": [
    " #### Second one:\n",
    " "
   ]
  },
  {
   "cell_type": "code",
   "execution_count": 8,
   "metadata": {},
   "outputs": [],
   "source": [
    "\n",
    "with wn.Analysis() as analysis:\n",
    "    # load data\n",
    "    data = wn.Dataset(path = data_path, column_names = var_names)\n",
    "\n",
    "    # get mean of age\n",
    "    age_mean = wn.dp_mean(data = wn.cast(data['age'], type=\"FLOAT\"),\n",
    "                          privacy_usage = {'epsilon': .65},\n",
    "                          data_lower = 0.,\n",
    "                          data_upper = 100.,\n",
    "                          data_n = 1000\n",
    "                         )"
   ]
  },
  {
   "cell_type": "markdown",
   "metadata": {},
   "source": [
    "### Step4- calling analysis.release() to access the value of dp mean and other components\n",
    "\n",
    "####  Note: After calling analysis.release(), the value of the lower and upper bounds collapse to the DP mean value. This reduces the sensitivity of later calculation because this value comes from DP. "
   ]
  },
  {
   "cell_type": "code",
   "execution_count": 9,
   "metadata": {},
   "outputs": [
    {
     "name": "stdout",
     "output_type": "stream",
     "text": [
      "DP mean of age: 45.082360349849445\n",
      "Desired lower bound:45.082360349849445\n",
      "Desired upper bound:45.082360349849445\n",
      "Privacy usage: approximate {\n",
      "  epsilon: 0.65\n",
      "}\n",
      "\n",
      "\n",
      "\n",
      "accuracy, alpha: 0.46088188823907555\n"
     ]
    }
   ],
   "source": [
    "analysis.release()\n",
    "\n",
    "print(\"DP mean of age: {0}\".format(age_mean.value))\n",
    "print(\"Desired lower bound:{0}\".format(age_mean.lower))\n",
    "print(\"Desired upper bound:{0}\".format(age_mean.upper))\n",
    "print(\"Privacy usage: {0}\\n\\n\".format(analysis.privacy_usage))\n",
    "# calling get_accuracy to customize alpha by a user\n",
    "print(\"accuracy, alpha:\",age_mean.get_accuracy(.05))"
   ]
  },
  {
   "cell_type": "markdown",
   "metadata": {},
   "source": [
    "### Step5- calling analysis.report() to get the JSON Release\n",
    "\n",
    "\n",
    "\n"
   ]
  },
  {
   "cell_type": "code",
   "execution_count": 10,
   "metadata": {},
   "outputs": [
    {
     "name": "stdout",
     "output_type": "stream",
     "text": [
      "JSON Release:\n"
     ]
    },
    {
     "data": {
      "text/plain": [
       "[{'description': 'DP release information',\n",
       "  'variables': 'age',\n",
       "  'statistic': 'DPMean',\n",
       "  'releaseInfo': 45.082360349849445,\n",
       "  'privacyLoss': {'delta': 0.0, 'epsilon': 0.65, 'name': 'approximate'},\n",
       "  'accuracy': None,\n",
       "  'batch': 0,\n",
       "  'nodeID': 11,\n",
       "  'postprocess': False,\n",
       "  'algorithmInfo': {'mechanism': 'Laplace',\n",
       "   'name': '',\n",
       "   'cite': '',\n",
       "   'argument': {'constraint': {'lowerbound': 0.0, 'upperbound': 100.0},\n",
       "    'n': 1000}}}]"
      ]
     },
     "execution_count": 10,
     "metadata": {},
     "output_type": "execute_result"
    }
   ],
   "source": [
    "print(\"JSON Release:\")\n",
    "analysis.report()"
   ]
  },
  {
   "cell_type": "markdown",
   "metadata": {},
   "source": [
    "We will have 'name' and 'cite' which are the actual name of the algorithm and the paper, respectively in the future release."
   ]
  }
 ],
 "metadata": {
  "kernelspec": {
   "display_name": "Python 3",
   "language": "python",
   "name": "python3"
  },
  "language_info": {
   "codemirror_mode": {
    "name": "ipython",
    "version": 3
   },
   "file_extension": ".py",
   "mimetype": "text/x-python",
   "name": "python",
   "nbconvert_exporter": "python",
   "pygments_lexer": "ipython3",
   "version": "3.7.5"
  }
 },
 "nbformat": 4,
 "nbformat_minor": 4
}
