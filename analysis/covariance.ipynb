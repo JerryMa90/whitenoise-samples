{
 "cells": [
  {
   "cell_type": "markdown",
   "metadata": {},
   "source": [
    "# Differentially Private Covariance\n",
    "\n",
    "WhiteNoise offers three different functionalities within its `covariance` function:\n",
    "\n",
    "1. Covariance between two vectors\n",
    "2. Covariance matrix of a matrix\n",
    "3. Cross-covariance matrix of a pair of matrices, where element $(i,j)$ of the returned matrix is the covariance of column $i$ of the left matrix and column $j$ of the right matrix."
   ]
  },
  {
   "cell_type": "code",
   "execution_count": 1,
   "metadata": {},
   "outputs": [],
   "source": [
    "# load libraries\n",
    "import os\n",
    "import opendp.whitenoise.core as wn\n",
    "import numpy as np\n",
    "import pandas as pd\n",
    "import seaborn as sns \n",
    "import matplotlib.pyplot as plt\n",
    "\n",
    "# establish data information\n",
    "data_path = os.path.join('.', 'data', 'PUMS_california_demographics_1000', 'data.csv')\n",
    "var_names = [\"age\", \"sex\", \"educ\", \"race\", \"income\", \"married\"]\n",
    "\n",
    "data = np.genfromtxt(data_path, delimiter=',', names=True)"
   ]
  },
  {
   "cell_type": "markdown",
   "metadata": {},
   "source": [
    "### Functionality\n",
    "\n",
    "Below we show the relationship between the three methods by calculating the same covariance in each. We use a much larger $\\epsilon$ than would ever be used in practice to show that the methods are consistent with one another.   "
   ]
  },
  {
   "cell_type": "code",
   "execution_count": 2,
   "metadata": {},
   "outputs": [
    {
     "name": "stdout",
     "output_type": "stream",
     "text": [
      "scalar covariance:\n",
      "[[94578.84038839]]\n",
      "\n",
      "covariance matrix:\n",
      "[[3.14885614e+02 9.45041692e+04]\n",
      " [9.45041692e+04 2.65115824e+09]]\n",
      "\n",
      "cross-covariance matrix:\n",
      "[[3.14946230e+02 9.47311441e+04]\n",
      " [9.44814015e+04 2.65142728e+09]]\n"
     ]
    }
   ],
   "source": [
    "with wn.Analysis() as analysis:\n",
    "    wn_data = wn.Dataset(path = data_path, column_names = var_names)\n",
    "    \n",
    "    # get scalar covariance\n",
    "    age_income_cov_scalar = wn.dp_covariance(left = wn.cast(wn_data['age'], type = \"FLOAT\"),\n",
    "                                        right = wn.cast(wn_data['income'], type = \"FLOAT\"),\n",
    "                                        privacy_usage = {'epsilon': 5000},\n",
    "                                        left_lower = 0.,\n",
    "                                        left_upper = 100.,\n",
    "                                        left_n = 1000,\n",
    "                                        right_lower = 0.,\n",
    "                                        right_upper = 500_000.,\n",
    "                                        right_n = 1000)\n",
    "    \n",
    "    # get full covariance matrix\n",
    "    age_income_cov_matrix = wn.dp_covariance(data = wn.cast(wn_data['age', 'income'], type = \"FLOAT\"),\n",
    "                                           privacy_usage = {'epsilon': 5000},\n",
    "                                           data_lower = [0., 0.],\n",
    "                                           data_upper = [100., 500_000.],\n",
    "                                           data_n = 1000)\n",
    "\n",
    "    # get cross-covariance matrix\n",
    "    cross_covar = wn.dp_covariance(left = wn.cast(wn_data['age', 'income'], type = \"FLOAT\"),\n",
    "                                   right = wn.cast(wn_data['age', 'income'], type = \"FLOAT\"),\n",
    "                                   privacy_usage = {'epsilon': 5000},\n",
    "                                   left_lower = [0., 0.],\n",
    "                                   left_upper = [100., 500_000.],\n",
    "                                   left_n = 1_000,\n",
    "                                   right_lower = [0., 0.],\n",
    "                                   right_upper = [100., 500_000.],\n",
    "                                   right_n = 1000)\n",
    "\n",
    "analysis.release()\n",
    "print('scalar covariance:\\n{0}\\n'.format(age_income_cov_scalar.value))\n",
    "print('covariance matrix:\\n{0}\\n'.format(age_income_cov_matrix.value))    \n",
    "print('cross-covariance matrix:\\n{0}'.format(cross_covar.value))"
   ]
  },
  {
   "cell_type": "markdown",
   "metadata": {},
   "source": [
    "### DP Covariance in Practice\n",
    "  \n",
    "We now move to an example with a much smaller $\\epsilon$. "
   ]
  },
  {
   "cell_type": "code",
   "execution_count": 3,
   "metadata": {},
   "outputs": [
    {
     "name": "stdout",
     "output_type": "stream",
     "text": [
      "Non-DP Correlation Matrix:\n",
      "          0         1         2         3         4\n",
      "0  1.000000  0.055088  0.025901  0.103524  0.196072\n",
      "1  0.055088  1.000000 -0.023111 -0.211106 -0.073125\n",
      "2  0.025901 -0.023111  1.000000  0.305238  0.053860\n",
      "3  0.103524 -0.211106  0.305238  1.000000  0.153143\n",
      "4  0.196072 -0.073125  0.053860  0.153143  1.000000\n",
      "\n",
      "\n",
      "DP Correlation Matrix:\n",
      "          0         1         2   3         4\n",
      "0  1.000000  1.436325 -0.011321 NaN -0.208641\n",
      "1  1.436325  1.000000 -1.198685 NaN  0.411453\n",
      "2 -0.011321 -1.198685  1.000000 NaN -0.451876\n",
      "3       NaN       NaN       NaN NaN       NaN\n",
      "4 -0.208641  0.411453 -0.451876 NaN  1.000000\n"
     ]
    },
    {
     "name": "stderr",
     "output_type": "stream",
     "text": [
      "/Users/michael/.virtualenvs/psi/lib/python3.7/site-packages/ipykernel_launcher.py:13: RuntimeWarning: invalid value encountered in sqrt\n",
      "  del sys.path[0]\n"
     ]
    }
   ],
   "source": [
    "with wn.Analysis() as analysis:\n",
    "    wn_data = wn.Dataset(path = data_path, column_names = var_names)\n",
    "    # get full covariance matrix\n",
    "    cov = wn.dp_covariance(data = wn.cast(wn_data['age', 'sex', 'educ', 'income', 'married'], type = \"FLOAT\"),\n",
    "                                          privacy_usage = {'epsilon': 0.1},\n",
    "                                          data_lower = [0., 0., 1., 0., 0.],\n",
    "                                          data_upper = [100., 1., 16., 500_000., 1.],\n",
    "                                          data_n = 1000)\n",
    "analysis.release()\n",
    "\n",
    "# store DP covariance and correlation matrix\n",
    "dp_cov = cov.value\n",
    "dp_corr = dp_cov / np.outer(np.sqrt(np.diag(dp_cov)), np.sqrt(np.diag(dp_cov)))\n",
    "\n",
    "# get non-DP covariance/correlation matrices\n",
    "age = list(data[:]['age'])\n",
    "sex = list(data[:]['sex'])\n",
    "educ = list(data[:]['educ'])\n",
    "income = list(data[:]['income'])\n",
    "married = list(data[:]['married'])\n",
    "non_dp_cov = np.cov([age, sex, educ, income, married])\n",
    "non_dp_corr = non_dp_cov / np.outer(np.sqrt(np.diag(non_dp_cov)), np.sqrt(np.diag(non_dp_cov)))\n",
    "\n",
    "print('Non-DP Correlation Matrix:\\n{0}\\n\\n'.format(pd.DataFrame(non_dp_corr)))\n",
    "print('DP Correlation Matrix:\\n{0}'.format(pd.DataFrame(dp_corr)))"
   ]
  },
  {
   "cell_type": "code",
   "execution_count": 4,
   "metadata": {},
   "outputs": [
    {
     "data": {
      "text/plain": [
       "[Text(0, 0.5, 'age'),\n",
       " Text(0, 1.5, 'sex'),\n",
       " Text(0, 2.5, 'educ'),\n",
       " Text(0, 3.5, 'income'),\n",
       " Text(0, 4.5, 'married')]"
      ]
     },
     "execution_count": 4,
     "metadata": {},
     "output_type": "execute_result"
    },
    {
     "data": {
      "image/png": "[encoded data removed]",
      "text/plain": [
       "<Figure size 648x792 with 4 Axes>"
      ]
     },
     "metadata": {
      "needs_background": "light"
     },
     "output_type": "display_data"
    }
   ],
   "source": [
    "fig, (ax_1, ax_2) = plt.subplots(1, 2, figsize = (9, 11))\n",
    "\n",
    "# generate a mask for the upper triangular matrix\n",
    "mask = np.triu(np.ones_like(non_dp_corr, dtype = np.bool))\n",
    "\n",
    "# generate color palette\n",
    "cmap = sns.diverging_palette(220, 10, as_cmap = True)\n",
    "\n",
    "# get correlation plots\n",
    "ax_1.title.set_text('Non-DP Correlation Matrix')\n",
    "sns.heatmap(non_dp_corr, mask=mask, cmap=cmap, vmax=.3, center=0,\n",
    "                          square=True, linewidths=.5, cbar_kws={\"shrink\": .5}, ax = ax_1)\n",
    "ax_1.set_xticklabels(labels = ['age', 'sex', 'educ', 'income', 'married'], rotation = 45)\n",
    "ax_1.set_yticklabels(labels = ['age', 'sex', 'educ', 'income', 'married'], rotation = 45)\n",
    "\n",
    "\n",
    "ax_2.title.set_text('DP Correlation Matrix')\n",
    "sns.heatmap(dp_corr, mask=mask, cmap=cmap, vmax=.3, center=0,\n",
    "                          square=True, linewidths=.5, cbar_kws={\"shrink\": .5}, ax = ax_2)\n",
    "ax_2.set_xticklabels(labels = ['age', 'sex', 'educ', 'income', 'married'], rotation = 45)\n",
    "ax_2.set_yticklabels(labels = ['age', 'sex', 'educ', 'income', 'married'], rotation = 45)\n",
    "\n"
   ]
  },
  {
   "cell_type": "markdown",
   "metadata": {},
   "source": [
    "Notice that the differentially private correlation matrix contains values outside of the feasible range for correlations, $[-1, 1]$. This is not uncommon, especially for analyses with small $\\epsilon$, and is not necessarily indicative of a problem. In this scenario, we will not use these correlations for anything other than visualization, so we will leave our result as is.\n",
    "\n",
    "Sometimes, you may get a result that does cause problems for downstream analysis. For example, say your differentially private covariance matrix is not positive semi-definite. There are a number of ways to deal with problems of this type.\n",
    "\n",
    "1. Relax your original plans: For example, if you want to invert your DP covariance matrix and are unable to do so, you could instead take the pseudoinverse.\n",
    "2. Manual Post-Processing: Choose some way to change the output such that it is consistent with what you need for later analyses. This changed output is still differentially private (we will use this idea again in the next section). For example, map all negative variances to small postive value.\n",
    "3. More releases: You could perform the same release again (perhaps with a larger $\\epsilon$) and combine your results in some way until you have a release that works for your purposes.  "
   ]
  },
  {
   "cell_type": "markdown",
   "metadata": {},
   "source": [
    "### Post-Processing of DP Covariance Matrix: Regression Coefficient\n",
    "\n",
    "Differentially private outputs are \"immune\" to post-processing, meaning that functions of diffrentially private releases are also differentially private (provided that the functions are independent of the underlying data about which the release was made). This idea provides us with a relatively easy way to generate complex differentially private releases from simpler ones.\n",
    "\n",
    "Say we wanted to run a linear regression of the form $income = \\alpha + \\beta \\cdot educ$ and want to find an differentially private estimate of the slope, $\\hat{\\beta}_{DP}$. We know that \n",
    "$$ \\beta = \\frac{cov(income, educ)}{var(educ)}, $$ \n",
    "and so \n",
    "$$ \\hat{\\beta}_{DP} = \\frac{\\hat{cov}(income, educ)_{DP}}{ \\hat{var}(educ)_{DP} }. $$\n",
    "\n",
    "We already have differentially private esimates of the necessary covariance and variance, so we can plug them in to find $\\hat{\\beta}_{DP}$.\n",
    "\n"
   ]
  },
  {
   "cell_type": "code",
   "execution_count": 5,
   "metadata": {},
   "outputs": [
    {
     "name": "stdout",
     "output_type": "stream",
     "text": [
      "income = alpha + beta * educ\n",
      "DP coefficient: 9147.732426141223\n",
      "Non-DP Coefficient: 4601.803740280991\n"
     ]
    }
   ],
   "source": [
    "'''income = alpha + beta * educ'''\n",
    "# find DP estimate of beta\n",
    "beta_hat_dp = dp_cov[2,3] / dp_cov[2,2]\n",
    "beta_hat = non_dp_cov[2,3] / non_dp_cov[2,2]\n",
    "\n",
    "print('income = alpha + beta * educ')\n",
    "print('DP coefficient: {0}'.format(beta_hat_dp))\n",
    "print('Non-DP Coefficient: {0}'.format(beta_hat))"
   ]
  },
  {
   "cell_type": "markdown",
   "metadata": {},
   "source": [
    "This result is obviously implausible, as it would suggest that an extra year of education is associated with, on average, a decrease in annual income of over $100,000. It's not uncommon for this to be the case for DP releases constructed as post-processing from other releases, especially when they involve taking ratios. \n",
    "\n",
    "If you find yourself in such as situation, it is often worth it to spend some extra privacy budget to estimate your quantity of interest using an algorithm optimized for that specific use case."
   ]
  },
  {
   "cell_type": "code",
   "execution_count": null,
   "metadata": {},
   "outputs": [],
   "source": []
  }
 ],
 "metadata": {
  "file_extension": ".py",
  "kernelspec": {
   "display_name": "Python 3",
   "language": "python",
   "name": "python3"
  },
  "language_info": {
   "codemirror_mode": {
    "name": "ipython",
    "version": 3
   },
   "file_extension": ".py",
   "mimetype": "text/x-python",
   "name": "python",
   "nbconvert_exporter": "python",
   "pygments_lexer": "ipython3",
   "version": "3.7.4"
  },
  "mimetype": "text/x-python",
  "name": "python",
  "npconvert_exporter": "python",
  "pygments_lexer": "ipython3",
  "version": 3
 },
 "nbformat": 4,
 "nbformat_minor": 2
}
