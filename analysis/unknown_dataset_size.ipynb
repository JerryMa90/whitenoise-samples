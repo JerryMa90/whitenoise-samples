{
 "cells": [
  {
   "cell_type": "markdown",
   "metadata": {},
   "source": [
    "# Working with Unknown Dataset Sizes\n",
    "\n",
    "This notebook will demonstrate the features built into WhiteNoise to handle unknown or private dataset sizes."
   ]
  },
  {
   "cell_type": "markdown",
   "metadata": {},
   "source": [
    "### Set up libraries and load exemplar dataset"
   ]
  },
  {
   "cell_type": "code",
   "execution_count": 1,
   "metadata": {},
   "outputs": [
    {
     "name": "stdout",
     "output_type": "stream",
     "text": [
      "Dimension of dataset: (1000,)\n",
      "Names of variables:   ('age', 'sex', 'educ', 'race', 'income', 'married')\n"
     ]
    }
   ],
   "source": [
    "# load libraries\n",
    "import os\n",
    "import opendp.whitenoise.core as wn\n",
    "import numpy as np\n",
    "import math\n",
    "import statistics\n",
    "\n",
    "# establish data information\n",
    "data_path = os.path.join('.', 'data', 'PUMS_california_demographics_1000', 'data.csv')\n",
    "var_names = [\"age\", \"sex\", \"educ\", \"race\", \"income\", \"married\"]\n",
    "\n",
    "data = np.genfromtxt(data_path, delimiter=',', names=True)\n",
    "age = list(data[:]['age'])\n",
    "\n",
    "print(\"Dimension of dataset: \" + str(data.shape))\n",
    "print(\"Names of variables:   \" + str(data.dtype.names))"
   ]
  },
  {
   "cell_type": "markdown",
   "metadata": {},
   "source": [
    "We see above this dataset has 1000 observations (rows).  Oftentimes the number of observations is public information.  For example, a researcher might run a random poll of 1000 respondents and publically announce the sample size.\n",
    "\n",
    "However, there are cases where simply the number of observations itself can leak private information.  For example, if a dataset contained all the individuals with a rare disease in a community, then knowing the size of the dataset would reveal how many people in the community had that condition.  In general, a dataset maybe composed of some defined subset of a population, and the dataset size is then equivalent to a count query on that subset, and thus a value just like many other queries we want to provide privacy guarantees for.\n",
    "\n",
    "WhiteNoise assumes the sample size is private information.  If it happens that you actually know the dataset size, then that information will be valuable if you add it into your analysis graph.  However, WhiteNoise will not assume you truthfully or correctly know the size of the dataset.  (Moreover, it can not directly send you an error message if you get this value incorrect, or it would open up an attack whereby an analyst keeps guessing different dataset sizes until the error message goes away, thereby leaking the information of the dataset size.)\n",
    "\n",
    "If we know the dataset size, we can incorporate it into the analysis as below, where we provide `data_n` as an argument to the release of a mean on age:"
   ]
  },
  {
   "cell_type": "code",
   "execution_count": 2,
   "metadata": {},
   "outputs": [
    {
     "name": "stdout",
     "output_type": "stream",
     "text": [
      "DP mean of age: 48.4052810298795\n",
      "Privacy usage: approximate {\n",
      "  epsilon: 0.1\n",
      "}\n",
      "\n"
     ]
    }
   ],
   "source": [
    "# get mean of age, using correct dataset size\n",
    "with wn.Analysis() as analysis:\n",
    "    # load data\n",
    "    data = wn.Dataset(path = data_path, column_names = var_names)\n",
    "\n",
    "    # get mean of age\n",
    "    age_mean = wn.dp_mean(data = wn.cast(data['age'], type=\"FLOAT\"),\n",
    "                          privacy_usage = {'epsilon': .1},\n",
    "                          data_lower = 0.,\n",
    "                          data_upper = 100.,\n",
    "                          data_n = 1000       # Here we're providing the correct value of n.\n",
    "                         )\n",
    "analysis.release()\n",
    "\n",
    "print(\"DP mean of age: {0}\".format(age_mean.value))\n",
    "print(\"Privacy usage: {0}\".format(analysis.privacy_usage))\n"
   ]
  },
  {
   "cell_type": "markdown",
   "metadata": {},
   "source": [
    "<a id='providing-incorrect-dataset-size-values'></a>\n",
    "### Providing incorrect dataset size values\n",
    "\n",
    "However, if we provide an incorrect value of `data_n` we still receive an answer as we see below:"
   ]
  },
  {
   "cell_type": "code",
   "execution_count": 3,
   "metadata": {},
   "outputs": [
    {
     "name": "stdout",
     "output_type": "stream",
     "text": [
      "DP mean of age: 43.373402839039755\n",
      "DP mean of age: 45.289719130321195\n",
      "Privacy usage: approximate {\n",
      "  epsilon: 0.2\n",
      "}\n",
      "\n"
     ]
    }
   ],
   "source": [
    "# get mean of age, using correct dataset size\n",
    "with wn.Analysis() as analysis:\n",
    "    # load data\n",
    "    data = wn.Dataset(path = data_path, column_names = var_names)\n",
    "\n",
    "    # get mean of age using too small n\n",
    "    age_mean_low_n = wn.dp_mean(data = wn.cast(data['age'], type=\"FLOAT\"),\n",
    "                          privacy_usage = {'epsilon': .1},\n",
    "                          data_lower = 0.,\n",
    "                          data_upper = 100.,\n",
    "                          data_n = 900       # Here we're setting n below the actual value in the dataset.\n",
    "                         )\n",
    "\n",
    "    # get mean of age using too large n\n",
    "    age_mean_high_n = wn.dp_mean(data = wn.cast(data['age'], type=\"FLOAT\"),\n",
    "                          privacy_usage = {'epsilon': .1},\n",
    "                          data_lower = 0.,\n",
    "                          data_upper = 100.,\n",
    "                          data_n = 1100       # Here we're setting n above the actual value in the dataset.\n",
    "                         )\n",
    "analysis.release()\n",
    "\n",
    "print(\"DP mean of age: {0}\".format(age_mean_low_n.value))\n",
    "print(\"DP mean of age: {0}\".format(age_mean_high_n.value))\n",
    "print(\"Privacy usage: {0}\".format(analysis.privacy_usage))"
   ]
  },
  {
   "cell_type": "markdown",
   "metadata": {},
   "source": [
    "Let's examine what is actually happening when these values are provided.  The when we provide all of the metadata arguments (`data_lower`, `data_upper`, `data_n`) to the function `wn.dp_mean` it works as a convenience method that knits together a number of library components to provide a mean.  A clamping, imputation and resize step are run on the dataset, in order for the validator to certify the analysis is privacy preserving (for more detail see the notebook \"data_analysis_tutorial\")."
   ]
  },
  {
   "cell_type": "code",
   "execution_count": 4,
   "metadata": {},
   "outputs": [],
   "source": [
    "with wn.Analysis() as analysis:\n",
    "    # load data\n",
    "    data = wn.Dataset(path = data_path, column_names = var_names)\n",
    "    \n",
    "    # establish data \n",
    "    age_dt = wn.cast(data['age'], 'FLOAT')\n",
    "    \n",
    "    # clamp data to range and impute missing values\n",
    "    age_dt = wn.clamp(data = age_dt, lower = 0., upper = 100.)\n",
    "    age_dt = wn.impute(data = age_dt, distribution = 'Gaussian',\n",
    "                       lower = 0., upper = 100., shift = 45., scale = 10.)\n",
    "    \n",
    "    # ensure data are consistent with proposed n\n",
    "    age_dt = wn.resize(data = age_dt, n = 1000, distribution = 'Gaussian',\n",
    "                       lower = 0., upper = 1000., shift = 45., scale = 10.)\n",
    "    \n",
    "    # calculate differentially private mean of age\n",
    "    age_mean = wn.dp_mean(data = age_dt, privacy_usage = {'epsilon': .1})\n",
    "    \n",
    "analysis.release()"
   ]
  },
  {
   "cell_type": "markdown",
   "metadata": {},
   "source": [
    "The `resize()` step takes `data` and `n` as arguments and builds a new dataset from the original data, with rows equal to `n`.  This is done by two rules that guarantee the privacy of the analysis:\n",
    "1. If `n` less than or equal to the size of the supplied data, sample `n` rows (without replacement) from the supplied dataset.\n",
    "2. If `n` greater than the size of the supplied data, create a new dataset by using the entire supplied dataset, and adding the remaining required rows by imputing new observations as if they were missing values.\n",
    "\n",
    "Thus, in general, we get the first `n` rows from the supplied dataset, and any additional rows are treated as if they were in the original data, but missing values.  \n",
    "\n",
    "*(Note, we would get a better answer if we resampled any extra rows we needed from the dataset, instead of imputing them.  However, then an individual could appear in the dataset twice (or more), and this would change all of our worst-case sensitivity calculations in the differentially private mechanisms.  We plan to add this as an optional parameter to allow a user to inflate the sensitivity by a maximum value (and pay the corresponding privacy loss in their budget) in a future release.)*\n",
    "\n",
    "We'll demonstrate the effects that resizing can have on differentially private releases at the end of this notebook, but first we show how to deal with the case where `data_n` is simply unknown."
   ]
  },
  {
   "cell_type": "markdown",
   "metadata": {},
   "source": [
    "### Analysis with no provided dataset size\n",
    "If we do not believe we have an accurate estimate for `data_n` we can instead pay for a query on the dataset to release a differentially private value of the dataset size.  Then we can use that estimate in the rest of the analysis.  Here is an example:"
   ]
  },
  {
   "cell_type": "code",
   "execution_count": 5,
   "metadata": {},
   "outputs": [
    {
     "name": "stdout",
     "output_type": "stream",
     "text": [
      "DP number of records: 989\n",
      "DP mean of age: 45.67084970727428\n",
      "Privacy usage: approximate {\n",
      "  epsilon: 0.15000000000000002\n",
      "}\n",
      "\n"
     ]
    }
   ],
   "source": [
    "# get mean of age, using DP release of dataset size as estimate\n",
    "with wn.Analysis(dynamic=True) as analysis:\n",
    "    # load data\n",
    "    data = wn.Dataset(path = data_path, column_names = var_names)\n",
    "\n",
    "    age_dt = wn.cast(data['age'], type=\"FLOAT\")\n",
    "    \n",
    "    # get dp release of the size of the dataset\n",
    "    dp_num_records = wn.dp_count(data= age_dt,\n",
    "                                 privacy_usage={'epsilon': .05},\n",
    "                                 lower=0,\n",
    "                                 upper=10000\n",
    "                                )\n",
    "    # get mean of age\n",
    "    age_mean = wn.dp_mean(data = age_dt,\n",
    "                          privacy_usage = {'epsilon': .1},\n",
    "                          data_lower = 0.,\n",
    "                          data_upper = 100.,\n",
    "                          data_n = dp_num_records   # Here we're providing the DP release of n.\n",
    "                         )\n",
    "analysis.release()\n",
    "print(\"DP number of records: {0}\".format(dp_num_records.value))\n",
    "print(\"DP mean of age: {0}\".format(age_mean.value))\n",
    "print(\"Privacy usage: {0}\".format(analysis.privacy_usage))"
   ]
  },
  {
   "cell_type": "markdown",
   "metadata": {},
   "source": [
    "Note that our privacy usage has increased because we apportioned some epsilon for both the release count of the dataset, and the mean of the dataset.\n",
    "\n",
    "The DP released estimate of the dataset size is a noisy answer.  As we saw above in section [Providing incorrect dataset size values](#providing-incorrect-dataset-size-values) if the DP released estimate happens to be too small, we will create a new dataset by subsampling from the `age` variable.  If the DP released estimate happens to be too large, we will add missing values to the column and impute.  Likely, the mean of the imputations is not the mean of the variable, so in this case, the answer will have some bias.  We can see this in simulation by plotting the number of records against the DP released mean through many simulations.  \n",
    "\n",
    "*(Note, we're adjusting the epsilon for the dp count downwards to intentionally increase the range of released datasets sizes for dramatic visual effect in this simulation.)*"
   ]
  },
  {
   "cell_type": "code",
   "execution_count": 6,
   "metadata": {},
   "outputs": [],
   "source": [
    "import matplotlib\n",
    "import matplotlib.pyplot as plt\n",
    "\n",
    "n_sims = 1000\n",
    "history = np.zeros(shape=(n_sims, 2), dtype=float)\n",
    "\n",
    "# loop over the previous release to accumulate many simulations\n",
    "for i in range(n_sims):\n",
    "    with wn.Analysis(dynamic=True) as analysis:\n",
    "        data = wn.Dataset(path = data_path, column_names = var_names)\n",
    "        age_dt = wn.cast(data['age'], type=\"FLOAT\")\n",
    "\n",
    "        # get dp release of the size of the dataset\n",
    "        dp_num_records = wn.dp_count(data= age_dt,\n",
    "                                 privacy_usage={'epsilon': .05},\n",
    "                                 lower=0,\n",
    "                                 upper=10000\n",
    "                                )\n",
    "        # get mean of age\n",
    "        age_mean = wn.dp_mean(data = age_dt,\n",
    "                          privacy_usage = {'epsilon': 1},\n",
    "                          data_lower = 0.,\n",
    "                          data_upper = 100.,\n",
    "                          data_n = dp_num_records   # Here we're providing the DP release of n.\n",
    "                         )\n",
    "    analysis.release()\n",
    "    history[i,0] = dp_num_records.value\n",
    "    history[i,1] = age_mean.value"
   ]
  },
  {
   "cell_type": "code",
   "execution_count": 7,
   "metadata": {},
   "outputs": [
    {
     "data": {
      "image/png": "[encoded data removed]",
      "text/plain": [
       "<Figure size 432x288 with 1 Axes>"
      ]
     },
     "metadata": {
      "needs_background": "light"
     },
     "output_type": "display_data"
    }
   ],
   "source": [
    "## plot the simulated values, \n",
    "## as well as their numerical average (for any dataset size > 6 simulations), \n",
    "## and finally the expected value.\n",
    "\n",
    "# plot raw simulations\n",
    "plt.plot(history[:, 0],history[:, 1], 'o', fillstyle='none', color = 'cornflowerblue')\n",
    "\n",
    "min_count = int(min(history[:, 0]))\n",
    "max_count = int(max(history[:, 0]))\n",
    "\n",
    "count_range = range(int(min(history[:, 0])), int(max(history[:, 0])))\n",
    "expected_values = np.zeros(shape=(len(count_range), 2), dtype=float)\n",
    "expected_values[:, 0] = list(count_range)\n",
    "\n",
    "data = np.genfromtxt(data_path, delimiter=',', names=True)\n",
    "age = list(data[:]['age'])   \n",
    "true_mean_age = statistics.mean(age)\n",
    "\n",
    "counter = 0\n",
    "for count in count_range:\n",
    "    flag = history[:,0] == count\n",
    "    subhistory = history[flag,1]\n",
    "    if len(subhistory)>6:\n",
    "        mean_sim = np.mean(subhistory)\n",
    "        # plot average simulation by dp release of dataset size\n",
    "        plt.plot(count, mean_sim, 'o', color = 'indigo')\n",
    "    if count<=1000:\n",
    "        expected_values[counter, 1] = true_mean_age\n",
    "    else:\n",
    "        expected_values[counter, 1] = ((true_mean_age* 1000) + ((count-1000)*50))/count\n",
    "    counter += 1\n",
    "\n",
    "# plot the expected value by dp release of dataset size\n",
    "plt.plot(expected_values[:, 0], expected_values[:, 1], linestyle='--', color = 'tomato')\n",
    "#plt.xlabel('DP Release of Age')\n",
    "#plt.ylabel('n')\n",
    "plt.show()"
   ]
  },
  {
   "cell_type": "markdown",
   "metadata": {},
   "source": [
    "We observe a similar trend across a larger range of sample sizes."
   ]
  },
  {
   "cell_type": "code",
   "execution_count": 8,
   "metadata": {},
   "outputs": [],
   "source": [
    "import pandas as pd\n",
    "import seaborn as sns\n",
    "\n",
    "# initialize data\n",
    "n_range = range(100, 2001, 200)\n",
    "n_sims = 50\n",
    "ns = []\n",
    "releases = []\n",
    "\n",
    "with wn.Analysis(dynamic=True) as analysis:\n",
    "    data = wn.Dataset(path = data_path, column_names = var_names)\n",
    "    age_dt = wn.cast(data['age'], type=\"FLOAT\")\n",
    "\n",
    "    for n in n_range:\n",
    "        for index in range(n_sims):\n",
    "            # get mean of age\n",
    "            ns.append(n)\n",
    "            releases.append(wn.dp_mean(data = age_dt,\n",
    "                              privacy_usage = {'epsilon': 1},\n",
    "                              data_lower = 0.,\n",
    "                              data_upper = 100.,\n",
    "                              data_n = n))\n",
    "analysis.release()\n",
    "\n",
    "# get released values\n",
    "values = [release.value for release in releases]\n",
    "df = pd.DataFrame({'n': ns, 'release': values})"
   ]
  },
  {
   "cell_type": "code",
   "execution_count": 9,
   "metadata": {},
   "outputs": [
    {
     "data": {
      "image/png": "[encoded data removed]",
      "text/plain": [
       "<Figure size 432x288 with 1 Axes>"
      ]
     },
     "metadata": {
      "needs_background": "light"
     },
     "output_type": "display_data"
    }
   ],
   "source": [
    "# get true mean\n",
    "data = np.genfromtxt(data_path, delimiter=',', names=True)\n",
    "age = list(data[:]['age'])   \n",
    "true_mean_age = statistics.mean(age)\n",
    "\n",
    "# plot distribution of releases by n\n",
    "plot = sns.boxplot(x = 'n', y = 'release', data = df)\n",
    "plot.axhline(true_mean_age)\n",
    "plt.show()"
   ]
  },
  {
   "cell_type": "markdown",
   "metadata": {},
   "source": [
    "### WhiteNoise `resize` vs. other approaches\n",
    "The standard formula for the mean of a variable is:\n",
    "$\\bar{x} = \\frac{\\sum{x}}{n}$\n",
    "\n",
    "The conventional, and simpler, approach in the differential privacy literature, is to: \n",
    "\n",
    "1. compute a DP sum of the variable for the numerator\n",
    "2. compute a DP count of the dataset rows for the denominator\n",
    "3. take their ratio\n",
    "\n",
    "This is sometimes called a 'plug-in' approach, as we are plugging-in differentially private answers for each of the terms in the original formula, without any additional modifications, and using the resulting answer as our estimate while ignoring the noise processes of differential privacy. While this 'plug-in' approach does result in a differentially private value, the utility here is generally lower than the solution in wn.  Because both the numerator and denominator of this estimator are noisy, the variance of their ratio is increased.  (Additionally, because the number of terms summed in the numerator does not agree with the value in the denominator, the resulting distribution becomes both biased and asymmetrical, which is visually noticeable in smaller samples.)  Here's an example:"
   ]
  },
  {
   "cell_type": "code",
   "execution_count": null,
   "metadata": {},
   "outputs": [],
   "source": [
    "n_sims = 1000\n",
    "history = np.zeros(shape=(n_sims, 2), dtype=float)\n",
    "\n",
    "for i in range(n_sims):\n",
    "\n",
    "    #  \n",
    "    with wn.Analysis(dynamic=True) as analysis_plug_in:\n",
    "        data = wn.Dataset(path = data_path, column_names = var_names)\n",
    "        age_dt_1 = wn.cast(data['age'], type=\"FLOAT\")\n",
    "        age_dt_2 = wn.cast(data['age'], type=\"FLOAT\")\n",
    "\n",
    "\n",
    "        # get dp release of the size of the dataset\n",
    "        dp_num_records = wn.dp_count(data= age_dt_1,\n",
    "                                 privacy_usage={'epsilon': 0.5},\n",
    "                                 lower=0,\n",
    "                                 upper=10000\n",
    "                                )\n",
    "\n",
    "        clamped_age = wn.clamp(age_dt_2, lower=0., upper=100.)\n",
    "        imputed_age = wn.impute(clamped_age)\n",
    "        \n",
    "        # get sum of age\n",
    "        age_sum = wn.dp_sum(data = imputed_age,\n",
    "                          privacy_usage = {'epsilon': 0.5}\n",
    "                         )\n",
    "    analysis_plug_in.release()\n",
    "    # post-process\n",
    "    dp_plugin_mean = age_sum.value/dp_num_records.value\n",
    "\n",
    "\n",
    "    with wn.Analysis(dynamic=True) as analysis_whitenoise:\n",
    "        # load data\n",
    "        data = wn.Dataset(path = data_path, column_names = var_names)\n",
    "\n",
    "        age_dt = wn.cast(data['age'], type=\"FLOAT\")\n",
    "    \n",
    "        # get dp release of the size of the dataset\n",
    "        dp_num_records = wn.dp_count(data= age_dt,\n",
    "                                 privacy_usage={'epsilon': 0.5},\n",
    "                                 lower=0,\n",
    "                                 upper=10000\n",
    "                                )\n",
    "        # get mean of age\n",
    "        age_mean = wn.dp_mean(data = age_dt,\n",
    "                          privacy_usage = {'epsilon': 0.5},\n",
    "                          data_lower = 0.,\n",
    "                          data_upper = 100.,\n",
    "                          data_n = dp_num_records   # Here we're providing the DP release of n.\n",
    "                         )\n",
    "    analysis_whitenoise.release()\n",
    "    dp_whitenoise_mean = age_mean.value\n",
    "    \n",
    "    # store simulation results \n",
    "    history[i,0] = dp_plugin_mean\n",
    "    history[i,1] = dp_whitenoise_mean\n",
    "    \n",
    "print(\"Plug-in mean privacy usage:    {0}\".format(analysis_plug_in.privacy_usage))\n",
    "print(\"WhiteNoise mean privacy usage: {0}\".format(analysis_whitenoise.privacy_usage))"
   ]
  },
  {
   "cell_type": "code",
   "execution_count": null,
   "metadata": {},
   "outputs": [],
   "source": [
    "import seaborn as sns\n",
    "\n",
    "data = np.genfromtxt(data_path, delimiter=',', names=True)\n",
    "age = list(data[:]['age'])   \n",
    "true_mean_age = statistics.mean(age)\n",
    "\n",
    "fig, ax = plt.subplots()\n",
    "sns.distplot(history[:, 1], hist = False, kde = True,\n",
    "                 kde_kws = {'shade': True, 'linewidth': 3},\n",
    "                 label = 'WhiteNoise Mean')\n",
    "sns.distplot(history[:, 0], hist = False, kde = True,\n",
    "                 kde_kws = {'shade': True, 'linewidth': 3},\n",
    "                 label = 'Plug-in Mean')\n",
    "\n",
    "ax.plot([true_mean_age,true_mean_age], [0,2], linestyle='--', color = 'forestgreen')\n",
    "#plt.xlabel('DP Release of Age')\n",
    "#plt.ylabel('Density')\n",
    "leg = ax.legend()\n"
   ]
  },
  {
   "cell_type": "markdown",
   "metadata": {},
   "source": [
    "We see that for the same privacy loss, the distribution of answers from WhiteNoise's resizing approach to the mean is much tighter around the true dataset value (thus lower in error) than the conventional plug-in approach.\n",
    "\n",
    "*(Note, in these simulations, we've shown equal division of the epsilon for all constituent releases, but higher utility (lower error) can be generally gained by moving more of the epsilon into the sum, and using less in the count of the dataset rows, as in earlier examples.)*"
   ]
  },
  {
   "cell_type": "code",
   "execution_count": null,
   "metadata": {},
   "outputs": [],
   "source": []
  }
 ],
 "metadata": {
  "kernelspec": {
   "display_name": "Python 3",
   "language": "python",
   "name": "python3"
  },
  "language_info": {
   "codemirror_mode": {
    "name": "ipython",
    "version": 3
   },
   "file_extension": ".py",
   "mimetype": "text/x-python",
   "name": "python",
   "nbconvert_exporter": "python",
   "pygments_lexer": "ipython3",
   "version": "3.7.4"
  }
 },
 "nbformat": 4,
 "nbformat_minor": 2
}
